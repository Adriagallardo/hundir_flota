{
 "metadata": {
  "language_info": {
   "codemirror_mode": {
    "name": "ipython",
    "version": 3
   },
   "file_extension": ".py",
   "mimetype": "text/x-python",
   "name": "python",
   "nbconvert_exporter": "python",
   "pygments_lexer": "ipython3",
   "version": "3.7.4"
  },
  "orig_nbformat": 2,
  "kernelspec": {
   "name": "python374jvsc74a57bd0aee8b7b246df8f9039afb4144a1f6fd8d2ca17a180786b69acc140d282b71a49",
   "display_name": "Python 3.7.4 64-bit"
  },
  "metadata": {
   "interpreter": {
    "hash": "aee8b7b246df8f9039afb4144a1f6fd8d2ca17a180786b69acc140d282b71a49"
   }
  }
 },
 "nbformat": 4,
 "nbformat_minor": 2,
 "cells": [
  {
   "cell_type": "code",
   "execution_count": 9,
   "metadata": {},
   "outputs": [],
   "source": [
    "import json \n",
    "with open('Partidas_guardadas/partidas_enemigas.json', 'r+') as partida:\n",
    "    hola = json.load(partida)"
   ]
  },
  {
   "cell_type": "code",
   "execution_count": 10,
   "metadata": {},
   "outputs": [
    {
     "output_type": "execute_result",
     "data": {
      "text/plain": [
       "{'Primer barco 2x1': [[2, 2], [2, 3]],\n",
       " 'Segundo barco 2x1': [[3, 3], [3, 4]],\n",
       " 'Tercer barco 2x1': [[4, 4], [4, 5]],\n",
       " 'Cuarto barco 2x1': [[5, 5], [5, 6]],\n",
       " 'Primer barco 3x1': [[6, 6], [6, 7], [6, 8]],\n",
       " 'Segundo barco 3x1': [[7, 7], [7, 8], [7, 9]],\n",
       " 'Tercer barco 3x1': [[8, 8], [8, 9], [8, 10]],\n",
       " 'Primer barco 4x1': [[6, 2], [6, 3], [6, 4], [6, 5]],\n",
       " 'Segundo barco 4x1': [[7, 2], [7, 3], [7, 4], [7, 5]],\n",
       " 'Primer barco 5x1': [[8, 2], [8, 3], [8, 4], [8, 5], [8, 6]]}"
      ]
     },
     "metadata": {},
     "execution_count": 10
    }
   ],
   "source": []
  },
  {
   "cell_type": "code",
   "execution_count": 14,
   "metadata": {},
   "outputs": [
    {
     "output_type": "execute_result",
     "data": {
      "text/plain": [
       "array([[' ', '0', '1', '2', '3', '4', '5', '6', '7', '8', '9'],\n",
       "       ['0', '#', '#', '~', '~', '~', '~', '~', '~', '~', '~'],\n",
       "       ['1', '#', 'x', '~', '~', '~', '~', '~', '~', '~', '~'],\n",
       "       ['2', '#', '#', '~', '~', '~', '~', 'o', '~', '~', '~'],\n",
       "       ['3', '#', '#', '~', '~', 'o', '~', '~', '~', '~', '~'],\n",
       "       ['4', '#', '#', '#', '~', '~', '~', '~', '~', '~', '~'],\n",
       "       ['5', '#', '#', '#', '~', '~', '~', '~', '~', '~', '~'],\n",
       "       ['6', '#', '#', '#', '~', '~', '~', '~', '~', '~', '~'],\n",
       "       ['7', '#', '#', '#', '#', '~', '~', '~', '~', '~', '~'],\n",
       "       ['8', '#', '#', '#', '#', '~', '~', '~', '~', '~', '~'],\n",
       "       ['9', '#', '#', '#', '#', '#', '~', '~', '~', '~', '~']],\n",
       "      dtype='<U1')"
      ]
     },
     "metadata": {},
     "execution_count": 14
    }
   ],
   "source": [
    "import json \n",
    "import numpy as np\n",
    "with open('Partidas_guardadas/mi_tabla.json', 'r+') as partida:\n",
    "    hola = json.load(partida)\n",
    "np.array(hola)"
   ]
  },
  {
   "cell_type": "code",
   "execution_count": 15,
   "metadata": {},
   "outputs": [],
   "source": [
    "class Barcos:\n",
    "\n",
    "    def __init__(self, nombre, largo):\n",
    "        \n",
    "        self.nombre = nombre\n",
    "        self.largo = largo\n",
    "        self.posicion = []\n",
    "        self.muerte = False\n",
    "\n",
    "\n",
    "    def colocar_barco(self, coordenada_y, coordenada_x, Tabler, orientacion):\n",
    "        while True:\n",
    "\n",
    "            x_inicial = coordenada_x\n",
    "            y_inicial = coordenada_y\n",
    "            orientacion = orientacion\n",
    "\n",
    "            if orientacion == 'Vertical': # Vertical\n",
    "                # La primer condicion es verdad si el indice se va fuera del rango de la matriz\n",
    "                # La segunda es verdad si hay algun barco o casilla ya marcada en el rango donde ira el barco\n",
    "                # Si alguna es verdad se lanzara una excepción\n",
    "                if (y_inicial + self.largo > 11) or not all(Tabler.tabla[y_inicial: y_inicial + self.largo, x_inicial] == '~'):\n",
    "                    raise Exception('No hay espacio disponible en esa coordenada para tu barco, elige otra posición')\n",
    "                for i in range(y_inicial, y_inicial + self.largo):\n",
    "                    self.posicion.append((i, x_inicial))\n",
    "                    Tabler.tabla[i][x_inicial] = '#'\n",
    "\n",
    "            elif orientacion == 'Horizontal': # Horizontal\n",
    "                if (x_inicial + self.largo > 11) or not all(Tabler.tabla[y_inicial, x_inicial: x_inicial + self.largo] == '~'):\n",
    "                    raise Exception('No hay espacio disponible en esa coordenada para tu barco, elige otra posición')\n",
    "                for i in range(x_inicial, x_inicial + self.largo):\n",
    "                    self.posicion.append((y_inicial, i))\n",
    "                    Tabler.tabla[y_inicial][i] = '#'\n",
    "                    \n",
    "            break\n",
    "\n",
    "        print(f'Añadido barco de eslora 4 en la posición inicial {(y_inicial-1, x_inicial-1)} con orientación {orientacion}')\n",
    "        print(Tabler.tabla)"
   ]
  },
  {
   "cell_type": "code",
   "execution_count": 30,
   "metadata": {},
   "outputs": [
    {
     "output_type": "execute_result",
     "data": {
      "text/plain": [
       "[<__main__.Barcos at 0x7fcd24c0b990>,\n",
       " <__main__.Barcos at 0x7fccd6f757d0>,\n",
       " <__main__.Barcos at 0x7fccd6f75310>,\n",
       " <__main__.Barcos at 0x7fccd6ed6410>,\n",
       " <__main__.Barcos at 0x7fccd6ed6b90>,\n",
       " <__main__.Barcos at 0x7fccd73b8750>,\n",
       " <__main__.Barcos at 0x7fccd73b8210>,\n",
       " <__main__.Barcos at 0x7fccd73b8950>,\n",
       " <__main__.Barcos at 0x7fccd73b81d0>,\n",
       " <__main__.Barcos at 0x7fccd73b8a50>]"
      ]
     },
     "metadata": {},
     "execution_count": 30
    }
   ],
   "source": [
    "with open('Partidas_guardadas/mis_partidas.json', 'r+') as partida:\n",
    "    hola = json.load(partida)\n",
    "lista_barcos = []\n",
    "for k, v in hola.items():\n",
    "     lista_barcos.append(Barcos(k, len(v)))\n",
    "lista_barcos"
   ]
  },
  {
   "cell_type": "code",
   "execution_count": null,
   "metadata": {},
   "outputs": [],
   "source": []
  }
 ]
}