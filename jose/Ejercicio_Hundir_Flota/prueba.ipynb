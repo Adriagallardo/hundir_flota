{
 "metadata": {
  "language_info": {
   "codemirror_mode": {
    "name": "ipython",
    "version": 3
   },
   "file_extension": ".py",
   "mimetype": "text/x-python",
   "name": "python",
   "nbconvert_exporter": "python",
   "pygments_lexer": "ipython3",
   "version": "3.7.4"
  },
  "orig_nbformat": 2,
  "kernelspec": {
   "name": "python374jvsc74a57bd0aee8b7b246df8f9039afb4144a1f6fd8d2ca17a180786b69acc140d282b71a49",
   "display_name": "Python 3.7.4 64-bit"
  },
  "metadata": {
   "interpreter": {
    "hash": "aee8b7b246df8f9039afb4144a1f6fd8d2ca17a180786b69acc140d282b71a49"
   }
  }
 },
 "nbformat": 4,
 "nbformat_minor": 2,
 "cells": [
  {
   "cell_type": "code",
   "execution_count": 25,
   "metadata": {},
   "outputs": [
    {
     "output_type": "stream",
     "name": "stdout",
     "text": [
      "{'Primer barco 2x1': [[0, 0], [0, 1]], 'Segundo barco 2x1': [[1, 1], [1, 2]], 'Tercer barco 2x1': [[2, 2], [2, 3]], 'Cuarto barco 2x1': [[3, 3], [3, 4]], 'Primer barco 3x1': [[4, 4], [4, 5], [4, 6]], 'Segundo barco 3x1': [[5, 5], [5, 6], [5, 7]], 'Tercer barco 3x1': [[6, 6], [6, 7], [6, 8]], 'Primer barco 4x1': [[9, 0], [9, 1], [9, 2], [9, 3]], 'Segundo barco 4x1': [[9, 5], [9, 6], [9, 7], [9, 8]], 'Primer barco 5x1': [[8, 0], [8, 1], [8, 2], [8, 3], [8, 4]]}\n"
     ]
    }
   ],
   "source": [
    "import json\n",
    "with open('posiciones.json', 'r+') as pos:\n",
    "    data_content = json.load(pos)\n",
    "print(data_content)"
   ]
  },
  {
   "cell_type": "code",
   "execution_count": 5,
   "metadata": {},
   "outputs": [
    {
     "output_type": "execute_result",
     "data": {
      "text/plain": [
       "[[0, 0], [0, 1]]"
      ]
     },
     "metadata": {},
     "execution_count": 5
    }
   ],
   "source": [
    "data_content['Primer barco 2x1']"
   ]
  },
  {
   "cell_type": "code",
   "execution_count": null,
   "metadata": {},
   "outputs": [],
   "source": []
  }
 ]
}